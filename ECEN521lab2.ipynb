{
  "cells": [
    {
      "cell_type": "code",
      "execution_count": null,
      "metadata": {
        "id": "8jyFjWEHgZbJ"
      },
      "outputs": [],
      "source": [
        "import numpy as np\n",
        "import matplotlib.pyplot as plt\n",
        "from keras.datasets import boston_housing\n",
        "from sklearn import datasets\n",
        "from sklearn.model_selection import train_test_split\n",
        "from tensorflow.keras.utils import to_categorical"
      ]
    },
    {
      "cell_type": "markdown",
      "metadata": {
        "id": "NblefRD7gZbN"
      },
      "source": [
        "# -1. Matrices, Gradients, Hessians\n",
        "\n",
        "Given the function $f(x1, x2) = (1 - x1)^2 + 5 (x2 - x1^2)^2$, compute:"
      ]
    },
    {
      "cell_type": "markdown",
      "metadata": {
        "id": "rAxUBrEvgZbO"
      },
      "source": [
        "### a) Gradient $\\nabla f(1, 1)$\n",
        "### $\\delta f/dx_1 = 2(-1)(1-x_1)+5(2)(-2x_1)(x_2-x_1^2) = -2 + 2x_1 - 20x_1x_2+20x_1^3$\n",
        "### $\\delta f/dx_2 = 5(2)(1)(x_2-x_1^2) = 10x_2-10x_1^2$\n",
        "### $\\nabla f(x_1, x_2) =\n",
        "\\begin{pmatrix}\n",
        "-2 + 2x_1 - 20x_1x_2+20x_1^3  & 10x_2-10x_1^2\n",
        "\\end{pmatrix}$\n",
        "### $\\nabla f(1, 1) =\n",
        "\\begin{pmatrix}\n",
        "-2 + 2 - 20 + 20 & 10 - 10\n",
        "\\end{pmatrix} =\n",
        "\\begin{pmatrix}\n",
        "0 & 0\n",
        "\\end{pmatrix}$"
      ]
    },
    {
      "cell_type": "markdown",
      "metadata": {
        "id": "lEyTZPzigZbP"
      },
      "source": [
        "### b) Hessian $\\nabla^2 f(1,1)$\n",
        "### $\\delta^2 f/dx_1^2 = 2 - 20x_2 + 60 x_1^2$\n",
        "### $\\delta^2 f/dx_2^2 = 10$\n",
        "### $\\delta^2 f/dx_1dx_2 = \\delta^2 f/dx_2dx_1 = -20x_1$\n",
        "### $\\nabla^2 f(x_1, x_2) =\n",
        "\\begin{pmatrix}\n",
        "  2 - 20x_2 + 60 x_1^2 & -20x_1 \\\\\n",
        "  -20x_1 & 10\n",
        "\\end{pmatrix}$\n",
        "### $\\nabla^2 f(1, 1) =\n",
        "\\begin{pmatrix}\n",
        "  42 & -20 \\\\\n",
        "  -20 & 10\n",
        "\\end{pmatrix}$"
      ]
    },
    {
      "cell_type": "markdown",
      "metadata": {
        "id": "5teGIPgYgZbP"
      },
      "source": [
        "### c) Is the hessian positive definite? Why? $p^T H p > 0$\n",
        "\n",
        "### Let p = $\n",
        "\\begin{pmatrix}\n",
        "  1 \\\\ 1\n",
        "\\end{pmatrix}\n",
        "$. $p^THp =\n",
        "\\begin{pmatrix}\n",
        "  1 & 1\n",
        "\\end{pmatrix}\n",
        "\\begin{pmatrix}\n",
        "  42 & -20 \\\\\n",
        "  -20 & 10\n",
        "\\end{pmatrix}\n",
        "\\begin{pmatrix}\n",
        "  1 \\\\ 1\n",
        "\\end{pmatrix} =\n",
        "\\begin{pmatrix}\n",
        "  22 & -10\n",
        "\\end{pmatrix}\n",
        "\\begin{pmatrix}\n",
        "  1 \\\\ 1\n",
        "\\end{pmatrix} = 12\n",
        "$\n",
        "### Since 12 > 0, the Hessian is positive definite at point (1,1)."
      ]
    },
    {
      "cell_type": "markdown",
      "metadata": {
        "id": "A3QmgU9BgZbP"
      },
      "source": [
        "# 0. Implementing 'Package' Supporting Functions"
      ]
    },
    {
      "cell_type": "code",
      "execution_count": null,
      "metadata": {
        "id": "vFMStQEIgZbP"
      },
      "outputs": [],
      "source": [
        "def relu(x):\n",
        "  \"\"\"Computes relu of function.\"\"\"\n",
        "  return x * (x >= 0)\n",
        "\n",
        "\n",
        "def sigmoid(x):\n",
        "  \"\"\"Computes sigmoid of function.\"\"\"\n",
        "  return 1 / (1 + np.exp(-x))\n",
        "\n",
        "def linear(x):\n",
        "  \"\"\"Return linear function of itself.\"\"\"\n",
        "  return x\n",
        "\n",
        "def d_linear(x):\n",
        "    return np.ones_like(x)\n",
        "\n",
        "def d_sigmoid(x):\n",
        "    return sigmoid(x) * (1 - sigmoid(x))\n",
        "\n",
        "def d_relu(x):\n",
        "    return (x >= 0).astype(np.float32)\n",
        "\n",
        "activations = {\n",
        "    \"linear\": linear,\n",
        "    \"relu\": relu,\n",
        "    \"sigmoid\": sigmoid\n",
        "}\n",
        "\n",
        "d_activations = {\n",
        "    \"linear\": d_linear,\n",
        "    \"relu\": d_relu,\n",
        "    \"sigmoid\": d_sigmoid\n",
        "}"
      ]
    },
    {
      "cell_type": "code",
      "execution_count": null,
      "metadata": {
        "id": "I9T_IFtsgZbQ",
        "colab": {
          "base_uri": "https://localhost:8080/"
        },
        "outputId": "9bcc9e99-5cef-46ab-ac8d-64c45be0d63c"
      },
      "outputs": [
        {
          "output_type": "execute_result",
          "data": {
            "text/plain": [
              "[[array([[ 0.2700784 , -0.40196043,  0.43104387, -0.34199981, -0.57896222,\n",
              "           0.77611834,  0.9542272 ,  0.8016223 ,  0.14914703,  0.77277493],\n",
              "         [-0.3549497 ,  0.72592129,  0.49940213, -0.96564659, -0.22805449,\n",
              "           0.67480839,  0.2842048 ,  0.7867564 , -0.86116032, -0.67293558],\n",
              "         [ 0.529237  , -0.15420237, -0.98867808, -0.86512342, -0.23594624,\n",
              "           0.36415011,  0.49552088,  0.2689968 , -0.58252994,  0.40781189],\n",
              "         [-0.18788703,  0.43528727,  0.67647181, -0.04490848,  0.56671733,\n",
              "          -0.73808008, -0.40280962, -0.1074882 ,  0.25226591, -0.86840408]]),\n",
              "  array([0., 0., 0., 0., 0., 0., 0., 0., 0., 0.]),\n",
              "  'sigmoid'],\n",
              " [array([[ 0.26502136, -0.05080583, -0.93305873],\n",
              "         [-0.43975319, -0.42021082,  0.32356652],\n",
              "         [ 0.33814229,  0.42189843,  0.24486083],\n",
              "         [-0.83131878, -0.18437547, -0.71911435],\n",
              "         [ 0.88566271, -0.91217206, -0.72413004],\n",
              "         [ 0.84558336, -0.21859929, -0.70845534],\n",
              "         [-0.81273424, -0.78017237, -0.27100451],\n",
              "         [ 0.39473334,  0.1112597 ,  0.80108075],\n",
              "         [ 0.01282266,  0.84507706,  0.05573884],\n",
              "         [-0.03798089, -0.03493026,  0.52937418]]),\n",
              "  array([0., 0., 0.]),\n",
              "  'sigmoid']]"
            ]
          },
          "metadata": {},
          "execution_count": 109
        }
      ],
      "source": [
        "def initialize_weights(shapes, outputs):\n",
        "    \"\"\"Initializes weights of model according to shape.\n",
        "     Args:\n",
        "       shapes = [784, 300, 10]\n",
        "       outputs = [\"linear\", \"sigmoid\"]\n",
        "\n",
        "     returns:\n",
        "       model with uniform random weights [-1,+1], zero bias and output function\n",
        "       [\n",
        "        [random(784, 300), zeros(300), \"linear\"]\n",
        "        [random(300, 10), zeros(10), \"sigmoid\"]\n",
        "       ]\n",
        "\n",
        "    \"\"\"\n",
        "    # do your code here\n",
        "    model = []\n",
        "    for i in range(len(shapes)-1):\n",
        "      layer = [np.random.uniform(-1, 1, (shapes[i], shapes[i+1])), np.zeros(shapes[i+1]), outputs[i]]\n",
        "      model.append(layer)\n",
        "    return model\n",
        "\n",
        "model = initialize_weights([4, 10, 3], ['sigmoid', 'sigmoid'])\n",
        "\n",
        "model\n",
        "#[[w1, b1, 'sigmoid'], [w2, b2, 'sigmoid']]"
      ]
    },
    {
      "cell_type": "code",
      "execution_count": null,
      "metadata": {
        "id": "2u6hzMMggZbQ"
      },
      "outputs": [],
      "source": [
        "def forward(x, model):\n",
        "    \"\"\"Performs forward pass of training step.\n",
        "\n",
        "     Args:\n",
        "       x: input tensor of shape (B, N0)\n",
        "       model: list of model weights (see initialize weights)\n",
        "     Returns:\n",
        "       List containing dictionary { \"y\": y, \"z\": z } for each layer of network.\n",
        "       [{\"y\": y1, \"z\": z1}, {\"y\": y2, \"z\": z2}]\n",
        "    \"\"\"\n",
        "    result = []\n",
        "    y = x\n",
        "    for layer in model:\n",
        "      # layer = [ w[i], b[i], 'relu']\n",
        "      z = np.dot(y, layer[0]) + layer[1]  # (B,N1) + (N1,N2)\n",
        "      y = activations[layer[2]](z)\n",
        "      result.append({'y': y, 'z': z})\n",
        "\n",
        "    return result"
      ]
    },
    {
      "cell_type": "code",
      "execution_count": null,
      "metadata": {
        "id": "GbK5glzjgZbR"
      },
      "outputs": [],
      "source": [
        "def predict(x, model):\n",
        "  \"\"\"Predicts the output of a model.\n",
        "\n",
        "     Args:\n",
        "       x: input tensor of shape (B, Ni)\n",
        "       model: list of model weights (see initialize weights)\n",
        "     Returns:\n",
        "       Prediction of model, with the same shape as the labeled data (B, No).\n",
        "  \"\"\"\n",
        "  fwd = forward(x, model)\n",
        "  return fwd[-1][\"y\"]"
      ]
    },
    {
      "cell_type": "code",
      "execution_count": null,
      "metadata": {
        "id": "NY1cGcdbgZbR"
      },
      "outputs": [],
      "source": [
        "def backward(y, x, model, loss):\n",
        "  \"\"\"Computes backward step of training.\n",
        "     Args:\n",
        "       y: labeled data of size (B, No)\n",
        "       x: input tensor of shape (B, Ni)\n",
        "       model: list of model weights (see initialize weights)\n",
        "       loss: one of (\"mse\", \"binary_crossentropy\")\n",
        "     Returns:\n",
        "       tuple with loss evaluation of (y, predict(x)) and list of dictionary\n",
        "       containing { \"dw\": dw, \"db\": db } for each layer of network. Remember\n",
        "       that shape of dw for each layer should be equal to shape of weight for\n",
        "       the same layer.\n",
        "       [{\"dw\": dw1, \"db\": db1}, {\"dw\": dw2, \"db\": db2}]\n",
        "  \"\"\"\n",
        "  # add backward here\n",
        "  p = predict(x, model)\n",
        "  fwd = forward(x, model)\n",
        "\n",
        "  if loss == \"mse\":\n",
        "    loss_evaluation = mse(y, p)\n",
        "\n",
        "    N = y.shape[0]\n",
        "    deriv_loss = -2/N * (y - p)\n",
        "\n",
        "  elif loss == \"binary_crossentropy\":\n",
        "    loss_evaluation = binary_crossentropy(y, p)\n",
        "\n",
        "    deriv_loss = -(y/p - (1-y)/(1-p))\n",
        "\n",
        "  #print(\"back\")\n",
        "  deriv_y = deriv_loss\n",
        "  dweights = []\n",
        "  for i in range(len(model) - 1, -1, -1):\n",
        "    layer = model[i]\n",
        "\n",
        "    if i == 0:\n",
        "      output_prev = x\n",
        "    else:\n",
        "      output_prev = fwd[i-1][\"y\"]\n",
        "\n",
        "    # gradient of activation function\n",
        "\n",
        "    # z = W * y + b\n",
        "    # dl/dy is just the derivation of the loss function\n",
        "    # dy/dz = derivation of the activation function\n",
        "    # deriv_z = dl / dz = dl/dy * dy/dz\n",
        "    z = fwd[i]['z']\n",
        "    deriv_activation = d_activations[layer[2]](z)\n",
        "    deriv_z = deriv_y * deriv_activation\n",
        "\n",
        "\n",
        "    # gradients of the weights and biases\n",
        "\n",
        "    # dl / dw = output_prev transposed x dl/dz\n",
        "    dw = np.dot(output_prev.T, deriv_z)\n",
        "\n",
        "    # dl/db = sum(dl/dz)\n",
        "    db = np.sum(deriv_z, axis=0, keepdims=True)\n",
        "\n",
        "\n",
        "    # repeat backpropagation with new dy\n",
        "    deriv_y = np.dot(deriv_z, layer[0].T)\n",
        "\n",
        "    dweights.append({\"dw\":dw, \"db\":db})\n",
        "\n",
        "  dweights.reverse()\n",
        "\n",
        "  return loss_evaluation, dweights"
      ]
    },
    {
      "cell_type": "code",
      "execution_count": null,
      "metadata": {
        "id": "iv1b1LBWgZbR"
      },
      "outputs": [],
      "source": [
        "def update(weights, dweights, alpha):\n",
        "  \"\"\"Gradient descent for weights and biases.\"\"\"\n",
        "  for i in range(len(weights)):\n",
        "    weights[i][0] += - alpha * dweights[i][\"dw\"]\n",
        "    weights[i][1] += - alpha * dweights[i][\"db\"].reshape(weights[i][1].shape)"
      ]
    },
    {
      "cell_type": "code",
      "execution_count": null,
      "metadata": {
        "id": "j3uUfQpugZbR"
      },
      "outputs": [],
      "source": [
        "def mse(y, p):\n",
        "  \"\"\"Computes Mean-Square Error between y and p.\n",
        "     Args:\n",
        "       y: labeled data of size (B, No)\n",
        "       p: predicted label of size (B, No)\n",
        "     Returns:\n",
        "       MSE of y-p\n",
        "  \"\"\"\n",
        "  #assert p.shape == y.shape\n",
        "  return np.mean((y - p)**2)\n",
        "\n",
        "def binary_crossentropy(y, p):\n",
        "  \"\"\"Computes binary crossentropy between y and p.\n",
        "     Args:\n",
        "       y: labeled data of size (B, No)\n",
        "       p: predicted label of size (B, No)\n",
        "     Returns:\n",
        "       BCE of (y, p) = mean(sum(y log(p) + (1-y) log(1-p)))\n",
        "  \"\"\"\n",
        "  return -np.mean(y * np.log(p) + (1 - y) * np.log(1 - p))\n"
      ]
    },
    {
      "cell_type": "markdown",
      "metadata": {
        "id": "QhMvNq1BgZbS"
      },
      "source": [
        "# 1. Creating and Training Linear Regression on Boston Dataset"
      ]
    },
    {
      "cell_type": "code",
      "execution_count": null,
      "metadata": {
        "id": "yZAcse7qgZbS"
      },
      "outputs": [],
      "source": [
        "def standardize(x):\n",
        "    # standardize = x - mean(x) / std(x)\n",
        "    return (x - np.mean(x, axis = 0))/np.std(x, axis = 0, keepdims=True)\n",
        "\n",
        "def load_data():\n",
        "  (x_train, y_train), (x_test, y_test) = boston_housing.load_data()\n",
        "\n",
        "  # condition data to be in a format you need to use\n",
        "  x_train = standardize(x_train)\n",
        "  x_test = standardize(x_test)\n",
        "  y_train = standardize(y_train).reshape(-1, 1)\n",
        "  y_test = standardize(y_test).reshape(-1, 1)\n",
        "\n",
        "  return (x_train, y_train), (x_test, y_test)"
      ]
    },
    {
      "cell_type": "code",
      "execution_count": null,
      "metadata": {
        "id": "1KwGpKa-gZbS",
        "colab": {
          "base_uri": "https://localhost:8080/",
          "height": 1000
        },
        "outputId": "4f9c2a84-35c1-4dee-9177-3e41948d1cb8"
      },
      "outputs": [
        {
          "output_type": "stream",
          "name": "stdout",
          "text": [
            "0 4.360300334402715\n",
            "1 4.197453335569373\n",
            "2 4.042706564267939\n",
            "3 3.895475318276519\n",
            "4 3.7552492154351174\n",
            "5 3.621578029119058\n",
            "6 3.494060646549206\n",
            "7 3.3723364350708556\n",
            "8 3.2560784666373834\n",
            "9 3.1449881776277744\n",
            "10 3.0387911386567534\n",
            "11 2.937233684001296\n",
            "12 2.8400802078921736\n",
            "13 2.7471109792185358\n",
            "14 2.658120360252153\n",
            "15 2.5729153411865653\n",
            "16 2.491314322426519\n",
            "17 2.4131460920545886\n",
            "18 2.338248957820532\n",
            "19 2.266470002171209\n",
            "20 2.197664435900205\n",
            "21 2.1316950314346905\n",
            "22 2.0684316209677247\n",
            "23 2.0077506478754867\n",
            "24 1.9495347623523662\n",
            "25 1.893672454122743\n",
            "26 1.8400577165775776\n",
            "27 1.788589737837162\n",
            "28 1.7391726151359475\n",
            "29 1.6917150896206592\n",
            "30 1.646130299194706\n",
            "31 1.602335547465279\n",
            "32 1.5602520871815861\n",
            "33 1.5198049168141654\n",
            "34 1.480922589132126\n",
            "35 1.4435370307998603\n",
            "36 1.4075833721466504\n",
            "37 1.3729997863690249\n",
            "38 1.3397273375122898\n",
            "39 1.3077098366487199\n",
            "40 1.2768937057287868\n",
            "41 1.2472278486311092\n",
            "42 1.2186635289785606\n",
            "43 1.191154254323636\n",
            "44 1.1646556663370804\n",
            "45 1.1391254366607209\n",
            "46 1.11452316810926\n",
            "47 1.0908103009269725\n",
            "48 1.0679500238242847\n",
            "49 1.045907189536457\n",
            "50 1.0246482346622803\n",
            "51 1.0041411035551124\n",
            "52 0.9843551760518311\n",
            "53 0.9652611988375813\n",
            "54 0.9468312202555934\n",
            "55 0.9290385283819971\n",
            "56 0.9118575921954918\n",
            "57 0.8952640056810541\n",
            "58 0.8792344347156025\n",
            "59 0.8637465665917491\n",
            "60 0.848779062043515\n",
            "61 0.8343115096451476\n",
            "62 0.8203243824610713\n",
            "63 0.8067989968314675\n",
            "64 0.7937174731841015\n",
            "65 0.7810626987688022\n",
            "66 0.7688182922164558\n",
            "67 0.7569685698295394\n",
            "68 0.7454985135161082\n",
            "69 0.7343937402837628\n",
            "70 0.7236404732144986\n",
            "71 0.7132255138454702\n",
            "72 0.7031362158846132\n",
            "73 0.6933604601937791\n",
            "74 0.6838866309755336\n",
            "75 0.6747035931030908\n",
            "76 0.6658006705360016\n",
            "77 0.6571676257671837\n",
            "78 0.6487946402496976\n",
            "79 0.640672295754347\n",
            "80 0.6327915566116987\n",
            "81 0.6251437527945171\n",
            "82 0.6177205637988714\n",
            "83 0.610514003284322\n",
            "84 0.6035164044356219\n",
            "85 0.5967204060103009\n",
            "86 0.5901189390383212\n",
            "87 0.583705214141726\n",
            "88 0.5774727094438336\n",
            "89 0.5714151590390929\n",
            "90 0.5655265419961786\n",
            "91 0.5598010718682996\n",
            "92 0.5542331866860227\n",
            "93 0.548817539409152\n",
            "94 0.5435489888154104\n",
            "95 0.5384225908047732\n",
            "96 0.5334335900993906\n",
            "97 0.5285774123200309\n",
            "98 0.5238496564209462\n",
            "99 0.519246087465964\n",
            "100 0.5147626297294756\n",
            "101 0.510395360106802\n",
            "102 0.506140501819204\n",
            "103 0.5019944183995257\n",
            "104 0.4979536079451681\n",
            "105 0.4940146976257443\n",
            "106 0.49017443843339953\n",
            "107 0.4864297001643694\n",
            "108 0.48277746662091914\n",
            "109 0.4792148310233392\n",
            "110 0.4757389916221825\n",
            "111 0.47234724750140916\n",
            "112 0.46903699456356407\n",
            "113 0.4658057216885461\n",
            "114 0.46265100705794\n",
            "115 0.4595705146372738\n",
            "116 0.45656199080893656\n",
            "117 0.4536232611488418\n",
            "118 0.45075222734026027\n",
            "119 0.4479468642185616\n",
            "120 0.44520521694090437\n",
            "121 0.44252539827520776\n",
            "122 0.4399055860030014\n",
            "123 0.43734402043101583\n",
            "124 0.43483900200661835\n",
            "125 0.43238888903243367\n",
            "126 0.42999209547570993\n",
            "127 0.42764708886820224\n",
            "128 0.425352388292546\n",
            "129 0.42310656245128236\n",
            "130 0.4209082278148783\n",
            "131 0.4187560468452597\n",
            "132 0.4166487262915331\n",
            "133 0.4145850155547327\n",
            "134 0.41256370511857493\n",
            "135 0.41058362504334245\n",
            "136 0.4086436435201551\n",
            "137 0.40674266548301186\n",
            "138 0.40487963127610754\n",
            "139 0.40305351537404477\n",
            "140 0.4012633251526707\n",
            "141 0.3995080997083714\n",
            "142 0.3977869087237574\n",
            "143 0.39609885137776535\n",
            "144 0.39444305529829654\n",
            "145 0.3928186755555889\n",
            "146 0.3912248936946114\n",
            "147 0.38966091680483933\n",
            "148 0.3881259766258449\n",
            "149 0.38661932868721033\n",
            "150 0.3851402514813331\n",
            "151 0.3836880456677619\n",
            "152 0.3822620333077575\n",
            "153 0.3808615571278339\n",
            "154 0.37948597981108995\n",
            "155 0.37813468331519223\n",
            "156 0.37680706821592297\n",
            "157 0.3755025530752513\n",
            "158 0.37422057383293506\n",
            "159 0.37296058322069986\n",
            "160 0.3717220501980884\n",
            "161 0.3705044594091072\n",
            "162 0.36930731065883904\n",
            "163 0.36813011840922594\n",
            "164 0.36697241129325625\n",
            "165 0.36583373164683114\n",
            "166 0.3647136350576074\n",
            "167 0.36361168993015003\n",
            "168 0.36252747706675414\n",
            "169 0.3614605892633222\n",
            "170 0.3604106309197087\n",
            "171 0.35937721766397146\n",
            "172 0.3583599759899882\n",
            "173 0.35735854290792385\n",
            "174 0.3563725656070522\n",
            "175 0.3554017011304574\n",
            "176 0.35444561606116304\n",
            "177 0.3535039862192493\n",
            "178 0.3525764963695418\n",
            "179 0.3516628399394735\n",
            "180 0.3507627187467305\n",
            "181 0.3498758427363177\n",
            "182 0.34900192972668787\n",
            "183 0.3481407051645954\n",
            "184 0.3472919018883495\n",
            "185 0.34645525989915443\n",
            "186 0.3456305261402354\n",
            "187 0.3448174542834644\n",
            "188 0.34401580452320774\n",
            "189 0.3432253433771311\n",
            "190 0.3424458434937058\n",
            "191 0.3416770834661736\n",
            "192 0.340918847652732\n",
            "193 0.34017092600271764\n",
            "194 0.3394331138885676\n",
            "195 0.338705211943352\n",
            "196 0.3379870259036765\n",
            "197 0.33727836645776277\n",
            "198 0.3365790490985211\n",
            "199 0.3358888939814378\n",
            "200 0.3352077257871058\n",
            "201 0.3345353735882332\n",
            "202 0.3338716707209736\n",
            "203 0.333216454660423\n",
            "204 0.3325695669001396\n",
            "205 0.3319308528355433\n",
            "206 0.3313001616510613\n",
            "207 0.33067734621088735\n",
            "208 0.33006226295323104\n",
            "209 0.3294547717879345\n",
            "210 0.3288547359973412\n",
            "211 0.32826202214030553\n",
            "212 0.32767649995923215\n",
            "213 0.32709804229004585\n",
            "214 0.3265265249749881\n",
            "215 0.3259618267781456\n",
            "216 0.32540382930361794\n",
            "217 0.3248524169162346\n",
            "218 0.32430747666473536\n",
            "219 0.3237688982073311\n",
            "220 0.323236573739565\n",
            "221 0.3227103979243966\n",
            "222 0.3221902678244353\n",
            "223 0.3216760828362508\n",
            "224 0.3211677446266921\n",
            "225 0.3206651570711474\n",
            "226 0.32016822619368174\n",
            "227 0.31967686010899055\n",
            "228 0.319190968966108\n",
            "229 0.3187104648938138\n",
            "230 0.318235261947683\n",
            "231 0.31776527605872296\n",
            "232 0.31730042498354927\n",
            "233 0.316840628256048\n",
            "234 0.3163858071404761\n",
            "235 0.31593588458595573\n",
            "236 0.3154907851823147\n",
            "237 0.3150504351172319\n",
            "238 0.31461476213464457\n",
            "239 0.31418369549437786\n",
            "240 0.3137571659329566\n",
            "241 0.31333510562556316\n",
            "242 0.31291744814910327\n",
            "243 0.3125041284463463\n",
            "244 0.312095082791104\n",
            "245 0.3116902487544179\n",
            "246 0.31128956517172035\n",
            "247 0.3108929721109407\n",
            "248 0.31050041084152674\n",
            "249 0.3101118238043526\n",
            "250 0.3097271545824846\n",
            "251 0.3093463478727802\n",
            "252 0.3089693494582924\n",
            "253 0.30859610618145616\n",
            "254 0.30822656591803127\n",
            "255 0.3078606775517794\n",
            "256 0.30749839094985276\n",
            "257 0.3071396569388714\n",
            "258 0.3067844272816695\n",
            "259 0.3064326546546897\n",
            "260 0.3060842926260052\n",
            "261 0.3057392956339511\n",
            "262 0.3053976189663465\n",
            "263 0.3050592187402899\n",
            "264 0.3047240518825089\n",
            "265 0.3043920761102497\n",
            "266 0.30406324991268907\n",
            "267 0.3037375325328527\n",
            "268 0.3034148839500257\n",
            "269 0.30309526486264043\n",
            "270 0.30277863667162636\n",
            "271 0.30246496146421015\n",
            "272 0.30215420199815085\n",
            "273 0.301846321686398\n",
            "274 0.3015412845821603\n",
            "275 0.3012390553643729\n",
            "276 0.30093959932355124\n",
            "277 0.30064288234801934\n",
            "278 0.30034887091050416\n",
            "279 0.3000575320550821\n",
            "280 0.2997688333844694\n",
            "281 0.2994827430476463\n",
            "282 0.29919922972780477\n",
            "283 0.29891826263061033\n",
            "284 0.2986398114727697\n",
            "285 0.29836384647089437\n",
            "286 0.29809033833065296\n",
            "287 0.29781925823620264\n",
            "288 0.29755057783989264\n",
            "289 0.29728426925223184\n",
            "290 0.29702030503211213\n",
            "291 0.29675865817728225\n",
            "292 0.2964993021150624\n",
            "293 0.2962422106932953\n",
            "294 0.29598735817152483\n",
            "295 0.2957347192123974\n",
            "296 0.2954842688732795\n",
            "297 0.2952359825980846\n",
            "298 0.29498983620930436\n",
            "299 0.29474580590023847\n"
          ]
        },
        {
          "output_type": "display_data",
          "data": {
            "text/plain": [
              "<Figure size 640x480 with 1 Axes>"
            ],
            "image/png": "[encoded data removed]"
          },
          "metadata": {}
        }
      ],
      "source": [
        "def train_network():\n",
        "\n",
        "  (x_train, y_train), (x_test, y_test) = load_data()\n",
        "\n",
        "  # linear network\n",
        "  # plot training and test loss over time in jupyter notebook\n",
        "\n",
        "  shapes = [x_train.shape[1], 1]\n",
        "\n",
        "  #print(shapes)\n",
        "\n",
        "  outputs = [\"linear\"]\n",
        "  model = initialize_weights(shapes, outputs)\n",
        "  #print(model)\n",
        "\n",
        "  fwd_results = forward(x_train, model)\n",
        "  #print(fwd_results)\n",
        "  # what's the alpha you should use?\n",
        "\n",
        "  alpha = 0.01\n",
        "\n",
        "  train_loss = []\n",
        "  test_loss = []\n",
        "  for i in range(300):\n",
        "    loss, dweights = backward(y_train, x_train, model, \"mse\")\n",
        "    update(model, dweights, alpha)\n",
        "    print(i, loss)\n",
        "    train_loss.append(loss)\n",
        "    test_loss.append(mse(y_test, predict(x_test, model)))\n",
        "\n",
        "  x = [i for i in range(300)]\n",
        "  plt.plot(x, train_loss, label=\"train_loss\")\n",
        "  plt.plot(x, test_loss, label=\"test_loss\")\n",
        "  plt.xlabel(\"Epoch\")\n",
        "  plt.ylabel(\"Loss(MSE)\")\n",
        "  plt.title(\"Training and Test Loss(MSE)\")\n",
        "  plt.legend()\n",
        "  plt.show()\n",
        "\n",
        "train_network()\n"
      ]
    },
    {
      "cell_type": "markdown",
      "metadata": {
        "id": "2nvbDAnngZbS"
      },
      "source": [
        "- Change training function to collect training and test loss"
      ]
    },
    {
      "cell_type": "markdown",
      "metadata": {
        "id": "Y0Oc2Bd8gZbS"
      },
      "source": [
        "# 2. Classification on Iris Dataset"
      ]
    },
    {
      "cell_type": "code",
      "execution_count": null,
      "metadata": {
        "id": "n1rQHJgKgZbS"
      },
      "outputs": [],
      "source": [
        "def load_iris():\n",
        "  iris = datasets.load_iris()\n",
        "  x = iris.data.astype(np.float32)\n",
        "  y = iris.target\n",
        "\n",
        "  y = to_categorical(y, np.max(y)+1).astype(np.float32)\n",
        "\n",
        "  x_train, x_test, y_train, y_test = train_test_split(x, y, test_size=0.2)\n",
        "  # (B,) -> {0, 1, 2}\n",
        "  # (B, 3) -> 0 -> y[:, 0] = 1, 1 -> y[:, 1] = 1\n",
        "\n",
        "  # need to do conditioning on the dataset\n",
        "  x_train = standardize(x_train)\n",
        "  x_test = standardize(x_test)\n",
        "\n",
        "  print(f\"X_train shape: {x_train.shape}, Y_train shape: {y_train.shape}\")\n",
        "  print(f\"X_test shape: {x_test.shape}, Y_test shape: {y_test.shape}\")\n",
        "\n",
        "  return (x_train, y_train), (x_test, y_test)"
      ]
    },
    {
      "cell_type": "code",
      "execution_count": null,
      "metadata": {
        "id": "WYyeeTg9gZbS",
        "colab": {
          "base_uri": "https://localhost:8080/",
          "height": 1000
        },
        "outputId": "0c00fd99-0db2-4c55-d858-57770b77f263"
      },
      "outputs": [
        {
          "output_type": "stream",
          "name": "stdout",
          "text": [
            "X_train shape: (120, 4), Y_train shape: (120, 3)\n",
            "X_test shape: (30, 4), Y_test shape: (30, 3)\n",
            "0 1.3821274583555847\n",
            "1 0.462127950367015\n",
            "2 0.37414144431460067\n",
            "3 0.34243148808959634\n",
            "4 0.31963664627725125\n",
            "5 0.3020993562940797\n",
            "6 0.28796663583107857\n",
            "7 0.27629613327879565\n",
            "8 0.2661207688931394\n",
            "9 0.2573157905318849\n",
            "10 0.24930768391523764\n",
            "11 0.24225057989006293\n",
            "12 0.23587751561222256\n",
            "13 0.22986612800972955\n",
            "14 0.22425512073297554\n",
            "15 0.21891357747723966\n",
            "16 0.2136823610396889\n",
            "17 0.20863266891930546\n",
            "18 0.20391892787723978\n",
            "19 0.1995139277116254\n",
            "20 0.19537545481468116\n",
            "21 0.1913775926500343\n",
            "22 0.1874317229371327\n",
            "23 0.18337662158813653\n",
            "24 0.17954839305330247\n",
            "25 0.1758365632262824\n",
            "26 0.17232471893251347\n",
            "27 0.1689201098355889\n",
            "28 0.16544554214356694\n",
            "29 0.16183249679557934\n",
            "30 0.15840616107406139\n",
            "31 0.15524373733923358\n",
            "32 0.15220713840934774\n",
            "33 0.1492591046192208\n",
            "34 0.14643424107573205\n",
            "35 0.14378677768097503\n",
            "36 0.14130962833071026\n",
            "37 0.13891946583003442\n",
            "38 0.13660478704067605\n",
            "39 0.13419503848572314\n",
            "40 0.13176526118434922\n",
            "41 0.1294295421675755\n",
            "42 0.12702028762197465\n",
            "43 0.12470283901305965\n",
            "44 0.12246729952450708\n",
            "45 0.12030486095591172\n",
            "46 0.11820537925256779\n",
            "47 0.1161650045035056\n",
            "48 0.11412736916248156\n",
            "49 0.11202943081796515\n",
            "50 0.10989846270097475\n",
            "51 0.10772734062803162\n",
            "52 0.1055819573273297\n",
            "53 0.1034748714078298\n",
            "54 0.10143241122103161\n",
            "55 0.09952934463941174\n",
            "56 0.09777188441337634\n",
            "57 0.09606886908007858\n",
            "58 0.09435184339567072\n",
            "59 0.09267866032893785\n",
            "60 0.09107593779941317\n",
            "61 0.08952576983799723\n",
            "62 0.08802483642734919\n",
            "63 0.08656580615918355\n",
            "64 0.08512687086415294\n",
            "65 0.08374968584147294\n",
            "66 0.0824145264092928\n",
            "67 0.0811233298936119\n",
            "68 0.0798775339631285\n",
            "69 0.07866600714520697\n",
            "70 0.0774955117108476\n",
            "71 0.07636584164618271\n",
            "72 0.07527734318959292\n",
            "73 0.07422447449078758\n",
            "74 0.07319999388003712\n",
            "75 0.07219909500127626\n",
            "76 0.0712140778276669\n",
            "77 0.07026074556027369\n",
            "78 0.06933851295405691\n",
            "79 0.06845398434197313\n",
            "80 0.0676121415275019\n",
            "81 0.06680470825760605\n",
            "82 0.06604350868262132\n",
            "83 0.06519375480642982\n",
            "84 0.06437726044279564\n",
            "85 0.06360382828132305\n",
            "86 0.06285223807766951\n",
            "87 0.06212154573749116\n",
            "88 0.06141170413523612\n",
            "89 0.060727660580531015\n",
            "90 0.06006286438898511\n",
            "91 0.05941554665590777\n",
            "92 0.058785040892189756\n",
            "93 0.058171050707528024\n",
            "94 0.05757302693598844\n",
            "95 0.056991152136099454\n",
            "96 0.05642340118947475\n",
            "97 0.055861084559079136\n",
            "98 0.05530354493364291\n",
            "99 0.054759025756409715\n"
          ]
        },
        {
          "output_type": "display_data",
          "data": {
            "text/plain": [
              "<Figure size 640x480 with 1 Axes>"
            ],
            "image/png": "[encoded data removed]"
          },
          "metadata": {}
        },
        {
          "output_type": "display_data",
          "data": {
            "text/plain": [
              "<Figure size 640x480 with 1 Axes>"
            ],
            "image/png": "[encoded data removed]"
          },
          "metadata": {}
        }
      ],
      "source": [
        "def accuracy(y, p): # (B, 3)\n",
        "    # y = (1, 0, 0), p = (0.2, 0.5, 0.3)\n",
        "    # y = 0, p = 1\n",
        "    return np.mean(np.argmax(y, axis=-1) == np.argmax(p, axis=-1))\n",
        "\n",
        "def train_network():\n",
        "  (x_train, y_train), (x_test, y_test) = load_iris()\n",
        "\n",
        "  # example of network. try your own to get higher accuracy\n",
        "  # plot training and test loss over time in jupyter notebook\n",
        "  # plot training and test accuracy over time in jupyter notebook\n",
        "\n",
        "  outputs = [\"relu\", \"relu\", \"sigmoid\"]\n",
        "  shapes = [x_train.shape[1], 30, 10, y_train.shape[1]]\n",
        "\n",
        "  #print(shapes)\n",
        "\n",
        "  # which alpha should you use?\n",
        "\n",
        "  alpha = 0.001\n",
        "  model = initialize_weights(shapes, outputs)\n",
        "\n",
        "  train_loss = []\n",
        "  test_loss = []\n",
        "  train_acc = []\n",
        "  test_acc = []\n",
        "  for i in range(100):\n",
        "    loss, dweights = backward(y_train, x_train, model, \"binary_crossentropy\")\n",
        "    update(model, dweights, alpha)\n",
        "\n",
        "    train_loss.append(loss)\n",
        "    train_acc.append(accuracy(y_train, predict(x_train, model)))\n",
        "    test_loss.append(binary_crossentropy(y_test, predict(x_test, model)))\n",
        "    test_acc.append(accuracy(y_test, predict(x_test, model)))\n",
        "    print(i, loss)\n",
        "\n",
        "  x = [i for i in range(100)]\n",
        "  plt.plot(x, train_loss, label=\"train_loss\")\n",
        "  plt.plot(x, test_loss, label=\"test_loss\")\n",
        "  plt.xlabel(\"Epoch\")\n",
        "  plt.ylabel(\"Loss(BCE)\")\n",
        "  plt.title(\"Training and Test Loss(BCE)\")\n",
        "  plt.legend()\n",
        "  plt.show()\n",
        "\n",
        "  plt.plot(x, train_acc, label=\"train_acc\")\n",
        "  plt.plot(x, test_acc, label=\"test_acc\")\n",
        "  plt.xlabel(\"Epoch\")\n",
        "  plt.ylabel(\"Accuracy\")\n",
        "  plt.title(\"Training and Test Accuracy\")\n",
        "  plt.legend()\n",
        "  plt.show()\n",
        "\n",
        "train_network()"
      ]
    },
    {
      "cell_type": "markdown",
      "metadata": {
        "id": "HVSl1FDdgZbT"
      },
      "source": [
        "# 3. Packages These Days Use Automatic Differentiation Like AutoGrad"
      ]
    },
    {
      "cell_type": "code",
      "execution_count": null,
      "metadata": {
        "id": "jEwz_xq3gZbT"
      },
      "outputs": [],
      "source": [
        "import autograd.numpy as np\n",
        "from autograd import elementwise_grad as grad"
      ]
    },
    {
      "cell_type": "code",
      "execution_count": null,
      "metadata": {
        "id": "ez_2IvjugZbT",
        "colab": {
          "base_uri": "https://localhost:8080/"
        },
        "outputId": "35ccb252-247a-4364-9423-340d21a701b5"
      },
      "outputs": [
        {
          "output_type": "execute_result",
          "data": {
            "text/plain": [
              "array([0., 1., 2., 3., 4., 5.], dtype=float32)"
            ]
          },
          "metadata": {},
          "execution_count": 120
        }
      ],
      "source": [
        "x = np.arange(6).astype(np.float32)\n",
        "x"
      ]
    },
    {
      "cell_type": "code",
      "execution_count": null,
      "metadata": {
        "id": "xBIsYWHIgZbT"
      },
      "outputs": [],
      "source": [
        "def f(x):\n",
        "    return 3.0 * np.power(x, 2) + 5.0 * x - 4.0"
      ]
    },
    {
      "cell_type": "code",
      "execution_count": null,
      "metadata": {
        "id": "C8OWSNgngZbT"
      },
      "outputs": [],
      "source": [
        "grad_f = grad(f)"
      ]
    },
    {
      "cell_type": "code",
      "execution_count": null,
      "metadata": {
        "scrolled": true,
        "id": "8SiLaZs4gZbT",
        "colab": {
          "base_uri": "https://localhost:8080/"
        },
        "outputId": "20c63c87-6cbd-4dc1-a2f1-bf83798f42a6"
      },
      "outputs": [
        {
          "output_type": "execute_result",
          "data": {
            "text/plain": [
              "array([ 5., 11., 17., 23., 29., 35.], dtype=float32)"
            ]
          },
          "metadata": {},
          "execution_count": 123
        }
      ],
      "source": [
        "grad_f(x)"
      ]
    },
    {
      "cell_type": "code",
      "execution_count": null,
      "metadata": {
        "id": "HQjzaz_rgZbT",
        "colab": {
          "base_uri": "https://localhost:8080/"
        },
        "outputId": "60787fc1-d666-428b-ccf1-8afc03fa911b"
      },
      "outputs": [
        {
          "output_type": "execute_result",
          "data": {
            "text/plain": [
              "array([ 4.9999833, 11.000013 , 17.000008 , 22.999954 , 29.000473 ,\n",
              "       35.001373 ], dtype=float32)"
            ]
          },
          "metadata": {},
          "execution_count": 124
        }
      ],
      "source": [
        "(f(x + 0.01) - f(x - 0.01)) / 0.02"
      ]
    },
    {
      "cell_type": "markdown",
      "metadata": {
        "id": "yI_jddoYgZbT"
      },
      "source": [
        "Comments:\n",
        "\n",
        "1. I said in the class to always check the shapes to see the operations. dw and w have transposed shapes.\n",
        "2. If you look at the notes, you will see that y's and z's have the same shape\n",
        "3. If you need to debug on the fly, put the following line in the code. You can search on the web but basically, you can do step by step computation with pdb.\n",
        "\n",
        "```python\n",
        "import pdb; pdb.set_trace()\n",
        "```"
      ]
    },
    {
      "cell_type": "code",
      "execution_count": null,
      "metadata": {
        "id": "V6cLJ83QgZbT"
      },
      "outputs": [],
      "source": []
    }
  ],
  "metadata": {
    "kernelspec": {
      "display_name": "Python [conda env:anaconda3]",
      "language": "python",
      "name": "conda-env-anaconda3-py"
    },
    "language_info": {
      "codemirror_mode": {
        "name": "ipython",
        "version": 3
      },
      "file_extension": ".py",
      "mimetype": "text/x-python",
      "name": "python",
      "nbconvert_exporter": "python",
      "pygments_lexer": "ipython3",
      "version": "3.12.4"
    },
    "colab": {
      "provenance": []
    }
  },
  "nbformat": 4,
  "nbformat_minor": 0
}