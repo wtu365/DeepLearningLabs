{
  "cells": [
    {
      "cell_type": "markdown",
      "metadata": {
        "id": "A1O4RMhbHVJd"
      },
      "source": [
        "# 1. How to Read Academic Papers?\n",
        "\n",
        "We will have to read several papers in this class (15-20 - why?). Watch this lecture from Andrew Ng and summarize his strategy on how to read research papers.\n",
        "\n",
        "https://www.youtube.com/watch?v=733m6qBH-jI"
      ]
    },
    {
      "cell_type": "markdown",
      "source": [
        "In his lecture, Andrew Ng gives a series of tips on how to read research papers. His tips are as follows:\n",
        "\n",
        "- Take multiple passes through a paper.\n",
        "  -  Starting with the title/abstract/figures\n",
        "  - Then the intro/conclusion/figures again, skimming though the rest, skipping the related work section.\n",
        "  - Then read the whole paper, but skip/skim math sections.\n",
        "  - Then read the whole paper, but skip sections that don't make sense to you.\n",
        "- Ask yourself these questions:\n",
        "  - What did the authors try to accomplish?\n",
        "  - What were the key elements of the approach?\n",
        "  - What can you use yourself?\n",
        "  - What other references do you want to follow?\n",
        "- For math sections, take detailed notes, and see if you can rederive the formulas from scratch.\n",
        "- For code sections, run any open-source code they have, and see if you can reimplement the code from scratch.\n",
        "- Keep steadily reading papers, instead of doing short bursts of reading a lot of papers at once."
      ],
      "metadata": {
        "id": "xs9vn-Qnu2yx"
      }
    },
    {
      "cell_type": "markdown",
      "metadata": {
        "id": "MpgZn3sJHVJg"
      },
      "source": [
        "# 2. Statistics"
      ]
    },
    {
      "cell_type": "markdown",
      "metadata": {
        "id": "Atg6OlSVHVJh"
      },
      "source": [
        "a) $w \\thicksim {\\tt Bernoulli} (p)$, $x \\thicksim {\\tt Bernoulli} (q)$, i.i.d.\n",
        "\n",
        "- $E \\left[ w x \\right] = p q $\n",
        "\n",
        "    $E \\left[ w \\right] E \\left[ x \\right] = p q$\n",
        "    \n",
        "\n",
        "- $V \\left[ w x \\right]$\n",
        "\n",
        "    $V \\left[ w \\right] = p (1 - p)$\n",
        "\n",
        "    $V \\left[ w \\right] = E \\left[ w^2 \\right] - E \\left[ w \\right]^2$\n",
        "\n",
        "    $p (1 - p) = E \\left[ w^2 \\right] - p^2$\n",
        "\n",
        "    $E \\left[w^2 \\right] = p - p^2 + p^2 = p$\n",
        "\n",
        "    or\n",
        "\n",
        "    $E \\left[ w^2 \\right] = \\sum_v v^2 f(v) = 0^2 (1-p) + 1^2 (p) = p$\n",
        "\n",
        "    $V \\left[ w x \\right] = E \\left[ (w x)^2 \\right] - E \\left[ w x \\right]^2$\n",
        "    \n",
        "    $E \\left[ (w x)^2 \\right] = E \\left[ w^2 x^2 \\right] = \\sum_{v_w} \\sum_{v_x} v_w^2 v_x^2 f(v_w, v_x) = \\sum_{v_w} \\sum_{v_x} v_w^2 v_x^2 f(v_w) f(v_x)$\n",
        "    \n",
        "    $E \\left[ w^2 x^2 \\right] = \\sum_{v_w} v_w^2 f(v_w) \\sum_{v_x} v_x^2 f(v_x)$\n",
        "\n",
        "    $E \\left[ w^2 x^2 \\right] = E \\left[ w^2 \\right] E \\left[ x^2 \\right] = p q$\n",
        "    \n",
        "    $E \\left[ w x \\right]^2 = p^2 q^2$\n",
        "    \n",
        "    $V \\left[ w x \\right] = p q  - p^2 q^2$\n",
        "    \n",
        "\n",
        "b) $w \\thicksim {\\tt Bernoulli} (p)$, $x \\thicksim {\\tt Normal} (0, \\sigma)$, i.i.d.\n",
        "\n",
        "- $E \\left[ w x \\right] = p * 0 = 0$\n",
        "\n",
        "- $V \\left[ w x \\right]$\n",
        "\n",
        "    $V \\left[ w \\right] = p (1 - p)$\n",
        "\n",
        "    $V \\left[ w \\right] = E \\left[ w^2 \\right] - E \\left[ w \\right]^2$\n",
        "\n",
        "    $p (1 - p) = E \\left[ w^2 \\right] - p^2$\n",
        "\n",
        "    $E \\left[w^2 \\right] = p - p^2 + p^2 = p$\n",
        "\n",
        "    $V \\left[ x \\right] = \\sigma^2$\n",
        "\n",
        "    $V \\left[ x \\right] = E \\left[ x^2 \\right] - E \\left[ x \\right]^2$\n",
        "\n",
        "    $\\sigma^2 = E \\left[ x^2 \\right] - 0^2$\n",
        "\n",
        "    $E \\left[x^2 \\right] = \\sigma^2$\n",
        "\n",
        "    $V \\left[ w x \\right] = E \\left[ (w x)^2 \\right] - E \\left[ w x \\right]^2 = E \\left[ w^2 \\right] E \\left[ x^2 \\right] - E \\left[ w x \\right]^2 = p * \\sigma^2 - 0^2 = p * \\sigma^2$\n",
        "\n",
        "c) $w \\thicksim {\\tt Normal} (0, \\sigma_w)$, $x \\thicksim {\\tt Normal} (0, \\sigma_x)$, i.i.d.\n",
        "\n",
        "- $E \\left[ w x \\right] = 0 * 0 = 0$\n",
        "\n",
        "- $V \\left[ w x \\right]$\n",
        "\n",
        "    $V \\left[ w \\right] = \\sigma_w^2$\n",
        "\n",
        "    $V \\left[ w \\right] = E \\left[ w^2 \\right] - E \\left[ w \\right]^2$\n",
        "\n",
        "    $\\sigma_w^2 = E \\left[ w^2 \\right] - 0^2$\n",
        "\n",
        "    $E \\left[w^2 \\right] = \\sigma_w^2$\n",
        "\n",
        "    $V \\left[ w x \\right] = E \\left[ (w x)^2 \\right] - E \\left[ w x \\right]^2 = E \\left[ w^2 \\right] E \\left[ x^2 \\right] - E \\left[ w x \\right]^2 = \\sigma_w^2 * \\sigma_x^2 - 0^2 = \\sigma_w^2 * \\sigma_x^2$\n",
        "\n",
        "d) $w \\thicksim {\\tt Uniform} (-1, 1)$, $x \\thicksim {\\tt Uniform} (-1, 1)$, i.i.d.\n",
        "\n",
        "- $E \\left[ {\\tt Relu} (w x) \\right]$\n",
        "\n",
        "    $E \\left[ {\\tt Relu} (w x) \\right] = \\int_{-∞}^{∞} {\\tt Relu} (w x) f_{wx}(wx)dwdx = \\int_{-∞}^{∞} \\int_{-∞}^{∞} (wx, 0 < w < 1, 0 < x < 1)f_{wx}(wx) dwdx = (1/2) \\int_{0}^{1} w dw \\int_{0}^{1} x dx = (1/2)(1/2)(1/2) = 1/8$\n",
        "\n",
        "- $V \\left[ {\\tt Relu} (w x) \\right]$\n",
        "\n",
        "    $V \\left[ {\\tt Relu} (w x) \\right] = E \\left[ {\\tt Relu} (w x)^2 \\right] - E \\left[ {\\tt Relu} (w x) \\right]^2 = \\int_{-∞}^{∞} {\\tt Relu} (w x)^2 f_{wx}(wx)dwdx - (1/8)^2 = \\int_{-∞}^{∞}\\int_{-∞}^{∞}(w^2x^2, 0 < w < 1, 0 < x < 1) f_{wx}(wx)dwdx - (1/64) = (1/2) \\int_{0}^{1} w^2 dw \\int_{0}^{1} x^2 dx - (1/64) = (1/2)(1/3)(1/3) - (1/64) = 23/576$\n",
        "\n"
      ]
    },
    {
      "cell_type": "markdown",
      "metadata": {
        "id": "GnlEdKTKHVJj"
      },
      "source": [
        "# 3. Implement the following functions"
      ]
    },
    {
      "cell_type": "code",
      "execution_count": null,
      "metadata": {
        "id": "W-JmqJVtHVJj"
      },
      "outputs": [],
      "source": [
        "import numpy as np\n",
        "import matplotlib.pyplot as plt\n",
        "%matplotlib inline\n",
        "\n",
        "# Create a jupyter notebook\n",
        "\n",
        "# Implement relu function\n",
        "\n",
        "def relu(x):\n",
        "  return (x >= 0) * x\n",
        "\n",
        "# Implement relu6 function\n",
        "\n",
        "def relu6(x):\n",
        "  return np.minimum(np.maximum(x, 0), 6)\n",
        "\n",
        "# Implement sigmoid function\n",
        "\n",
        "def sigmoid(x):\n",
        "  return np.exp(x) / (1 + np.exp(x))\n",
        "\n",
        "# Implement tanh function\n",
        "\n",
        "def tanh(x):\n",
        "  return np.tanh(x)\n",
        "\n",
        "# Implement softmax function\n",
        "\n",
        "def softmax(x):\n",
        "  ans = np.zeros(x.shape)\n",
        "  for i in range(x.shape[0]):\n",
        "    ans[i] = np.exp(x[i]) / np.sum(np.exp(x[i]))\n",
        "  return ans"
      ]
    },
    {
      "cell_type": "code",
      "execution_count": null,
      "metadata": {
        "colab": {
          "base_uri": "https://localhost:8080/"
        },
        "id": "P7Ba6qV7HVJl",
        "outputId": "e4d9b66c-5578-49ab-b6c2-b8540a99ce51"
      },
      "outputs": [
        {
          "output_type": "execute_result",
          "data": {
            "text/plain": [
              "array([ 0.36913649,  0.3514199 ,  0.596288  ,  0.36838988, -0.44542363,\n",
              "       -0.13265878,  0.18888342, -0.14775519,  0.11485972,  0.48235636])"
            ]
          },
          "metadata": {},
          "execution_count": 35
        }
      ],
      "source": [
        "np.random.uniform(low=-1.0, high=1.0, size=10)\n"
      ]
    },
    {
      "cell_type": "markdown",
      "metadata": {
        "id": "Aly3pz6dHVJl"
      },
      "source": [
        "## Test"
      ]
    },
    {
      "cell_type": "code",
      "execution_count": null,
      "metadata": {
        "id": "chTO_8r2HVJm"
      },
      "outputs": [],
      "source": [
        "x = np.array([\n",
        "  [-2.0, 1.0, 2.0, 3.0],\n",
        "  [-20.0, 10.0, 20.0, 30.0],\n",
        "  [-2000.0, 1000.0, 2000.0, 3000.0]])"
      ]
    },
    {
      "cell_type": "code",
      "execution_count": null,
      "metadata": {
        "colab": {
          "base_uri": "https://localhost:8080/"
        },
        "id": "1eePvwIKHVJm",
        "outputId": "1712e86c-4855-4f6c-ccc4-1301ba8d5002"
      },
      "outputs": [
        {
          "output_type": "execute_result",
          "data": {
            "text/plain": [
              "array([[-0.e+00,  1.e+00,  2.e+00,  3.e+00],\n",
              "       [-0.e+00,  1.e+01,  2.e+01,  3.e+01],\n",
              "       [-0.e+00,  1.e+03,  2.e+03,  3.e+03]])"
            ]
          },
          "metadata": {},
          "execution_count": 37
        }
      ],
      "source": [
        "relu(x)"
      ]
    },
    {
      "cell_type": "code",
      "execution_count": null,
      "metadata": {
        "colab": {
          "base_uri": "https://localhost:8080/"
        },
        "id": "DSQj3q0-HVJn",
        "outputId": "978f6de8-9f40-4083-e5aa-70ef49b33d04"
      },
      "outputs": [
        {
          "output_type": "execute_result",
          "data": {
            "text/plain": [
              "array([[0., 1., 2., 3.],\n",
              "       [0., 6., 6., 6.],\n",
              "       [0., 6., 6., 6.]])"
            ]
          },
          "metadata": {},
          "execution_count": 38
        }
      ],
      "source": [
        "relu6(x)"
      ]
    },
    {
      "cell_type": "code",
      "execution_count": null,
      "metadata": {
        "colab": {
          "base_uri": "https://localhost:8080/"
        },
        "id": "y0pjvW-kHVJn",
        "outputId": "14616dba-d36e-47b1-d6f9-9360d73d9064"
      },
      "outputs": [
        {
          "output_type": "stream",
          "name": "stderr",
          "text": [
            "<ipython-input-34-3e0587c92c42>:20: RuntimeWarning: overflow encountered in exp\n",
            "  return np.exp(x) / (1 + np.exp(x))\n",
            "<ipython-input-34-3e0587c92c42>:20: RuntimeWarning: invalid value encountered in divide\n",
            "  return np.exp(x) / (1 + np.exp(x))\n"
          ]
        },
        {
          "output_type": "execute_result",
          "data": {
            "text/plain": [
              "array([[1.19202922e-01, 7.31058579e-01, 8.80797078e-01, 9.52574127e-01],\n",
              "       [2.06115362e-09, 9.99954602e-01, 9.99999998e-01, 1.00000000e+00],\n",
              "       [0.00000000e+00,            nan,            nan,            nan]])"
            ]
          },
          "metadata": {},
          "execution_count": 39
        }
      ],
      "source": [
        "sigmoid(x)"
      ]
    },
    {
      "cell_type": "code",
      "execution_count": null,
      "metadata": {
        "colab": {
          "base_uri": "https://localhost:8080/"
        },
        "id": "6S5IRY7mHVJo",
        "outputId": "d1c305f7-e430-42ac-d03d-b8bc051e2869"
      },
      "outputs": [
        {
          "output_type": "execute_result",
          "data": {
            "text/plain": [
              "array([[-0.96402758,  0.76159416,  0.96402758,  0.99505475],\n",
              "       [-1.        ,  1.        ,  1.        ,  1.        ],\n",
              "       [-1.        ,  1.        ,  1.        ,  1.        ]])"
            ]
          },
          "metadata": {},
          "execution_count": 40
        }
      ],
      "source": [
        "tanh(x)"
      ]
    },
    {
      "cell_type": "code",
      "execution_count": null,
      "metadata": {
        "id": "6Dn78h0eHVJo",
        "colab": {
          "base_uri": "https://localhost:8080/"
        },
        "outputId": "771d84bb-3814-4204-a6fd-6e0d68ed5b90"
      },
      "outputs": [
        {
          "output_type": "stream",
          "name": "stderr",
          "text": [
            "<ipython-input-34-3e0587c92c42>:32: RuntimeWarning: overflow encountered in exp\n",
            "  ans[i] = np.exp(x[i]) / np.sum(np.exp(x[i]))\n",
            "<ipython-input-34-3e0587c92c42>:32: RuntimeWarning: invalid value encountered in divide\n",
            "  ans[i] = np.exp(x[i]) / np.sum(np.exp(x[i]))\n"
          ]
        },
        {
          "output_type": "execute_result",
          "data": {
            "text/plain": [
              "array([[4.46235642e-03, 8.96288247e-02, 2.43636405e-01, 6.62272414e-01],\n",
              "       [1.92866228e-22, 2.06106005e-09, 4.53978686e-05, 9.99954600e-01],\n",
              "       [0.00000000e+00,            nan,            nan,            nan]])"
            ]
          },
          "metadata": {},
          "execution_count": 41
        }
      ],
      "source": [
        "softmax(x)"
      ]
    },
    {
      "cell_type": "markdown",
      "metadata": {
        "id": "ZbzUGN9iHVJo"
      },
      "source": [
        "# 4. Check Distribution of Operations\n",
        "\n",
        "Given $x  \\thicksim {\\tt Normal}(0, \\sigma_x)$ and $w  \\thicksim {\\tt Normal}(0, \\sigma_w)$, where all x's and w's and i.i.d., what's the mean and variance of $y = {\\tt Relu} \\left( \\sum_i w_i x_i \\right)$?"
      ]
    },
    {
      "cell_type": "markdown",
      "metadata": {
        "id": "KzGhBxFKHVJo"
      },
      "source": [
        "## 4.1. Create Distributions for $x$ and $w$"
      ]
    },
    {
      "cell_type": "code",
      "execution_count": null,
      "metadata": {
        "id": "sV-LVTXkHVJp"
      },
      "outputs": [],
      "source": [
        "S = 100000\n",
        "N = 10\n",
        "\n",
        "x = np.random.normal(loc=0, scale=1, size=(S, N))\n",
        "w = np.random.normal(loc=0, scale=1, size=(S, N))"
      ]
    },
    {
      "cell_type": "markdown",
      "metadata": {
        "id": "D1aHFtS9HVJp"
      },
      "source": [
        "## 4.2. Compute Output Distribution"
      ]
    },
    {
      "cell_type": "code",
      "execution_count": null,
      "metadata": {
        "id": "ZmRpZEVmHVJp",
        "colab": {
          "base_uri": "https://localhost:8080/"
        },
        "outputId": "1e9aae56-b966-42d9-b785-8814121e5727"
      },
      "outputs": [
        {
          "output_type": "stream",
          "name": "stdout",
          "text": [
            "1.2314156608115978 3.48795268763906\n"
          ]
        }
      ],
      "source": [
        "y = relu(np.sum(w * x, axis=1))\n",
        "\n",
        "print(np.mean(y), np.var(y))"
      ]
    },
    {
      "cell_type": "markdown",
      "metadata": {
        "id": "E1AxPSZPHVJq"
      },
      "source": [
        "## 4.3. Let's Assume Variance of $x$ range from 0 to 3 and Compute Distribution of $y$"
      ]
    },
    {
      "cell_type": "code",
      "execution_count": null,
      "metadata": {
        "id": "TJKtPA0WHVJq",
        "colab": {
          "base_uri": "https://localhost:8080/",
          "height": 887
        },
        "outputId": "6518c147-acf0-4b57-ba0e-e001d9f4f9ca"
      },
      "outputs": [
        {
          "output_type": "display_data",
          "data": {
            "text/plain": [
              "<Figure size 640x480 with 1 Axes>"
            ],
            "image/png": "[encoded data removed]"
          },
          "metadata": {}
        },
        {
          "output_type": "display_data",
          "data": {
            "text/plain": [
              "<Figure size 640x480 with 1 Axes>"
            ],
            "image/png": "[encoded data removed]"
          },
          "metadata": {}
        }
      ],
      "source": [
        "means = []\n",
        "variances = []\n",
        "scales = np.linspace(0, 3, 100)\n",
        "\n",
        "for s in scales:\n",
        "    x = np.random.normal(loc=0, scale=s, size=(S, N))\n",
        "    y = relu(np.sum(w * x, axis=1))\n",
        "    means.append(np.mean(y))\n",
        "    variances.append(np.var(y))\n",
        "\n",
        "plt.plot(scales, means)\n",
        "plt.title('Mean')\n",
        "plt.show()\n",
        "plt.plot(scales, variances)\n",
        "plt.title('Variance')\n",
        "plt.show()"
      ]
    },
    {
      "cell_type": "markdown",
      "metadata": {
        "id": "ub9he3onHVJq"
      },
      "source": [
        "## 4.4. Find the Relation for Mean and Variance"
      ]
    },
    {
      "cell_type": "code",
      "execution_count": null,
      "metadata": {
        "id": "xnECWUCXHVJr",
        "colab": {
          "base_uri": "https://localhost:8080/"
        },
        "outputId": "51d89989-fa83-4a90-d3c1-ae997271e3b1"
      },
      "outputs": [
        {
          "output_type": "stream",
          "name": "stdout",
          "text": [
            " \n",
            "1.232 x - 0.0002069\n"
          ]
        }
      ],
      "source": [
        "p = np.polyfit(scales, means, 1)\n",
        "x_poly_mean = np.poly1d(p)\n",
        "print(x_poly_mean)"
      ]
    },
    {
      "cell_type": "code",
      "execution_count": null,
      "metadata": {
        "id": "vVg3WYCIHVJr",
        "colab": {
          "base_uri": "https://localhost:8080/"
        },
        "outputId": "cf9fcf7f-6be4-4624-bfa1-807d4cbc7044"
      },
      "outputs": [
        {
          "output_type": "stream",
          "name": "stdout",
          "text": [
            "       2\n",
            "3.493 x - 0.0125 x + 0.007363\n"
          ]
        }
      ],
      "source": [
        "p = np.polyfit(scales, variances, 2)\n",
        "x_poly_var = np.poly1d(p)\n",
        "print(x_poly_var)"
      ]
    },
    {
      "cell_type": "markdown",
      "metadata": {
        "id": "GKxhiq-RHVJr"
      },
      "source": [
        "## 4.5. Compare Results with Problem 2"
      ]
    },
    {
      "cell_type": "code",
      "execution_count": null,
      "metadata": {
        "id": "gVinjQKwHVJr",
        "colab": {
          "base_uri": "https://localhost:8080/"
        },
        "outputId": "c93b40f7-1b6b-4994-9f1b-e1922c438a1d"
      },
      "outputs": [
        {
          "output_type": "stream",
          "name": "stdout",
          "text": [
            "Part 2a)\n",
            "0.25065 0.25\n",
            "0.18782457749999998 0.1875\n",
            "Part 2b)\n",
            "0.002187275593792909 0.0\n",
            "0.49909907603817955 0.5\n",
            "Part 2c)\n",
            "0.0006492231428393066 0\n",
            "0.25208147867303704 0.25\n",
            "Part 2d)\n",
            "0.12438642132688159 0.125\n",
            "0.039990144395236064 0.03993055555555555\n"
          ]
        }
      ],
      "source": [
        "p = 0.5\n",
        "q = 0.5\n",
        "bern_p = np.random.binomial(n=1, p=p, size=100000)\n",
        "bern_q = np.random.binomial(n=1, p=q, size=100000)\n",
        "\n",
        "print(\"Part 2a)\")\n",
        "print(np.mean(bern_p * bern_q), p * q)\n",
        "print(np.var(bern_p * bern_q),  p*q  - p**2 * q**2)\n",
        "\n",
        "std_dev = 1\n",
        "normal = np.random.normal(loc=0, scale=std_dev, size=100000)\n",
        "print(\"Part 2b)\")\n",
        "print(np.mean(bern_p * normal), p * 0)\n",
        "print(np.var(bern_p * normal), p * std_dev**2)\n",
        "\n",
        "std_dev2 = 0.5\n",
        "normal_2 = np.random.normal(loc=0, scale=std_dev2, size=100000)\n",
        "print(\"Part 2c)\")\n",
        "print(np.mean(normal * normal_2), 0)\n",
        "print(np.var(normal * normal_2), std_dev**2 * std_dev2**2)\n",
        "\n",
        "uniform1 = np.random.uniform(low=-1.0, high=1.0, size=100000)\n",
        "uniform2 = np.random.uniform(low=-1.0, high=1.0, size=100000)\n",
        "print(\"Part 2d)\")\n",
        "print(np.mean(relu(uniform1 * uniform2)), (1/8))\n",
        "print(np.var(relu(uniform1 * uniform2)), (23/576))"
      ]
    },
    {
      "cell_type": "markdown",
      "metadata": {
        "id": "yeRnRUygHVJr"
      },
      "source": [
        "## 4.6. Analyze Paper Equations\n",
        "\n",
        "You were reading the paper https://arxiv.org/pdf/2003.00394.pdf, and you saw in the introduction the following equations.\n",
        "\n",
        "<img src='2003.00394.png' height=50% width=50%>"
      ]
    },
    {
      "cell_type": "code",
      "execution_count": null,
      "metadata": {
        "id": "lIAYYqJhHVJs",
        "colab": {
          "base_uri": "https://localhost:8080/"
        },
        "outputId": "46aee404-4338-43af-df0c-8f0eea39f7e8"
      },
      "outputs": [
        {
          "output_type": "stream",
          "name": "stdout",
          "text": [
            "sampled distribution: -0.0029270632646342157 11.020321761829432\n",
            "formula distribution: 0 10.999674435805481\n"
          ]
        }
      ],
      "source": [
        "# larger sample size for distribution give us a good result.\n",
        "\n",
        "S = 1000000\n",
        "I = 10\n",
        "\n",
        "# let's assume 'b' is 0\n",
        "\n",
        "b = np.random.normal(loc=0, scale=1, size=(S,))\n",
        "x = np.random.normal(loc=0, scale=1, size=(S, I))\n",
        "w = np.random.normal(loc=0, scale=1, size=(S, I))\n",
        "\n",
        "y = np.sum(w * x, axis=1) + b\n",
        "\n",
        "print('sampled distribution:', np.mean(y), np.var(y))\n",
        "\n",
        "# we do the mean over the sample size S\n",
        "\n",
        "print('formula distribution:', 0, np.var(b) + np.var(w) *\n",
        "      np.mean(np.sum(x**2, axis=1)))\n"
      ]
    },
    {
      "cell_type": "markdown",
      "metadata": {
        "id": "Sf1pKc0fHVJs"
      },
      "source": [
        "Which conclusion can you draw based on these numbers? $x_j ~ \\tt{i.i.d.}$ with the same distribution, $\\mu_j = 0$"
      ]
    },
    {
      "cell_type": "markdown",
      "source": [
        "That the equations listed in the text were correct, as we can represent the y equation, y=mx+b, as a normal distribution, with m, x, and b all also being normal distributions. The mean of y is 0, and the variance is 11, which can be calculated with the second formula with the variance of w and b, along with the mean of x^2."
      ],
      "metadata": {
        "id": "UysYSkneShdc"
      }
    },
    {
      "cell_type": "markdown",
      "metadata": {
        "id": "Uzb1vHp7HVJs"
      },
      "source": [
        "# 5. Load Iris Dataset\n",
        "\n",
        "Load the Iris dataset and plot its histogram."
      ]
    },
    {
      "cell_type": "code",
      "execution_count": null,
      "metadata": {
        "id": "co4p24J_HVJs"
      },
      "outputs": [],
      "source": [
        "from sklearn.datasets import load_iris\n",
        "\n",
        "\n",
        "def load_irisfunc():\n",
        "  iris = load_iris(as_frame=True)\n",
        "  return iris"
      ]
    },
    {
      "cell_type": "code",
      "source": [
        "import matplotlib.pyplot as plt\n",
        "data = load_irisfunc()\n",
        "#data[\"frame\"][\"sepal length (cm)\"]\n",
        "\n",
        "fig, axs = plt.subplots(2,2, figsize=(10,10))\n",
        "axs[0,0].hist(data[\"frame\"][\"sepal length (cm)\"], bins=20)\n",
        "axs[0,0].set_title(\"Sepal Length in cm\")\n",
        "axs[0,0].set_xlabel(\"Sepal_Length_cm\")\n",
        "axs[0,0].set_ylabel(\"Count\")\n",
        "axs[0,1].hist(data[\"frame\"][\"sepal width (cm)\"], bins=20)\n",
        "axs[0,1].set_title(\"Sepal Width in cm\")\n",
        "axs[0,1].set_xlabel(\"Sepal_Width_cm\")\n",
        "axs[0,1].set_ylabel(\"Count\")\n",
        "axs[1,0].hist(data[\"frame\"][\"petal length (cm)\"], bins=20)\n",
        "axs[1,0].set_title(\"Petal Length in cm\")\n",
        "axs[1,0].set_xlabel(\"Petal_Length_cm\")\n",
        "axs[1,0].set_ylabel(\"Count\")\n",
        "axs[1,1].hist(data[\"frame\"][\"petal width (cm)\"], bins=20)\n",
        "axs[1,1].set_title(\"Petal Width in cm\")\n",
        "axs[1,1].set_xlabel(\"Petal_Width_cm\")\n",
        "axs[1,1].set_ylabel(\"Count\")\n",
        "\n"
      ],
      "metadata": {
        "id": "CYqvKaTzUG3B",
        "colab": {
          "base_uri": "https://localhost:8080/",
          "height": 889
        },
        "outputId": "3aa7a040-883d-4370-ba6b-ead4a4dbe9bb"
      },
      "execution_count": null,
      "outputs": [
        {
          "output_type": "execute_result",
          "data": {
            "text/plain": [
              "Text(0, 0.5, 'Count')"
            ]
          },
          "metadata": {},
          "execution_count": 50
        },
        {
          "output_type": "display_data",
          "data": {
            "text/plain": [
              "<Figure size 1000x1000 with 4 Axes>"
            ],
            "image/png": "[encoded data removed]"
          },
          "metadata": {}
        }
      ]
    },
    {
      "cell_type": "markdown",
      "metadata": {
        "id": "BOLbWe3zHVJt"
      },
      "source": [
        "# 6. Load the MNIST Dataset\n",
        "\n",
        "Load the MNIST dataset and plot a sample in a 3x3 grid in the image."
      ]
    },
    {
      "cell_type": "code",
      "execution_count": null,
      "metadata": {
        "id": "NW26ks5xHVJt"
      },
      "outputs": [],
      "source": [
        "from keras.datasets import mnist\n",
        "\n",
        "def load_mnist():\n",
        "  (x_train, y_train), (x_test, y_test) = mnist.load_data()\n",
        "  return (x_train, y_train), (x_test, y_test)"
      ]
    },
    {
      "cell_type": "code",
      "execution_count": null,
      "metadata": {
        "scrolled": true,
        "id": "h6YskL8dHVJt",
        "colab": {
          "base_uri": "https://localhost:8080/",
          "height": 468
        },
        "outputId": "da7e3949-3380-4588-d31a-409793eb5e5c"
      },
      "outputs": [
        {
          "output_type": "stream",
          "name": "stdout",
          "text": [
            "Downloading data from https://storage.googleapis.com/tensorflow/tf-keras-datasets/mnist.npz\n",
            "\u001b[1m11490434/11490434\u001b[0m \u001b[32m━━━━━━━━━━━━━━━━━━━━\u001b[0m\u001b[37m\u001b[0m \u001b[1m0s\u001b[0m 0us/step\n"
          ]
        },
        {
          "output_type": "display_data",
          "data": {
            "text/plain": [
              "<Figure size 640x480 with 9 Axes>"
            ],
            "image/png": "[encoded data removed]"
          },
          "metadata": {}
        }
      ],
      "source": [
        "(x_train, y_train), (x_test, y_test) = load_mnist()\n",
        "\n",
        "_, ax = plt.subplots(3,3)\n",
        "for i in range(3):\n",
        "    for j in range(3):\n",
        "        idx = np.random.choice(54000)\n",
        "        ax[i,j].imshow(x_train[idx])"
      ]
    },
    {
      "cell_type": "code",
      "execution_count": null,
      "metadata": {
        "id": "Jui3wHi8HVJu"
      },
      "outputs": [],
      "source": []
    }
  ],
  "metadata": {
    "kernelspec": {
      "display_name": "Python 3 (ipykernel)",
      "language": "python",
      "name": "python3"
    },
    "language_info": {
      "codemirror_mode": {
        "name": "ipython",
        "version": 3
      },
      "file_extension": ".py",
      "mimetype": "text/x-python",
      "name": "python",
      "nbconvert_exporter": "python",
      "pygments_lexer": "ipython3",
      "version": "3.8.8"
    },
    "colab": {
      "provenance": []
    }
  },
  "nbformat": 4,
  "nbformat_minor": 0
}